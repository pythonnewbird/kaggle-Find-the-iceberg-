{
 "cells": [
  {
   "cell_type": "markdown",
   "metadata": {},
   "source": [
    "# CNN"
   ]
  },
  {
   "cell_type": "code",
   "execution_count": 15,
   "metadata": {
    "collapsed": false
   },
   "outputs": [],
   "source": [
    "import pandas as pd \n",
    "import numpy as np \n",
    "import cv2 \n",
    "from matplotlib import pyplot as plt\n",
    "seed = 666\n",
    "np.random.seed(seed)\n",
    "\n",
    "from sklearn.model_selection import train_test_split\n",
    "from keras.models import Sequential\n",
    "from keras.layers import Dense, Dropout, Flatten, Activation\n",
    "from keras.layers import Conv2D, MaxPooling2D\n",
    "from keras.callbacks import EarlyStopping, ModelCheckpoint, ReduceLROnPlateau\n",
    "from keras.layers.normalization import BatchNormalization\n",
    "from keras.optimizers import Adam\n",
    "from sklearn.model_selection import StratifiedKFold"
   ]
  },
  {
   "cell_type": "code",
   "execution_count": 16,
   "metadata": {
    "collapsed": true
   },
   "outputs": [],
   "source": [
    "def get_scaled_imgs(df):\n",
    "    imgs = []\n",
    "    \n",
    "    for i, row in df.iterrows():\n",
    "        \n",
    "        band_1 = np.array(row['band_1']).reshape(75, 75)\n",
    "        band_2 = np.array(row['band_2']).reshape(75, 75)\n",
    "        band_3 = (band_1 + band_2 )/2\n",
    "        \n",
    "        \n",
    "        a = (band_1 - band_1.mean()) / (band_1.max() - band_1.min())\n",
    "        b = (band_2 - band_2.mean()) / (band_2.max() - band_2.min())\n",
    "        c = (band_3 - band_3.mean()) / (band_3.max() - band_3.min())\n",
    "\n",
    "        imgs.append(np.dstack((a, b, c)))\n",
    "\n",
    "    return np.array(imgs)"
   ]
  },
  {
   "cell_type": "code",
   "execution_count": 17,
   "metadata": {
    "collapsed": true
   },
   "outputs": [],
   "source": [
    "def get_more_images(imgs):\n",
    "    \n",
    "    more_images = []\n",
    "    vert_flip_imgs = []\n",
    "    hori_flip_imgs = []\n",
    "      \n",
    "    for i in range(0,imgs.shape[0]):\n",
    "        a=imgs[i,:,:,0]\n",
    "        b=imgs[i,:,:,1]\n",
    "        c=imgs[i,:,:,2]\n",
    "        \n",
    "        av=cv2.flip(a,1)\n",
    "        ah=cv2.flip(a,0)\n",
    "        bv=cv2.flip(b,1)\n",
    "        bh=cv2.flip(b,0)\n",
    "        cv=cv2.flip(c,1)\n",
    "        ch=cv2.flip(c,0)\n",
    "        \n",
    "        vert_flip_imgs.append(np.dstack((av, bv, cv)))\n",
    "        hori_flip_imgs.append(np.dstack((ah, bh, ch)))\n",
    "      \n",
    "    v = np.array(vert_flip_imgs)\n",
    "    h = np.array(hori_flip_imgs)\n",
    "       \n",
    "    more_images = np.concatenate((imgs,v,h))\n",
    "    \n",
    "    return more_images\n"
   ]
  },
  {
   "cell_type": "code",
   "execution_count": 18,
   "metadata": {
    "collapsed": true
   },
   "outputs": [],
   "source": [
    "def get_model():\n",
    "\n",
    "    model=Sequential()\n",
    "    \n",
    "    model.add(Conv2D(64, kernel_size=(3, 3),activation='relu', input_shape=(75, 75, 3)))\n",
    "    model.add(MaxPooling2D(pool_size=(3, 3), strides=(2, 2)))\n",
    "    model.add(Dropout(0.2))\n",
    "   \n",
    "    model.add(Conv2D(128, kernel_size=(3, 3), activation='relu' ))\n",
    "    model.add(MaxPooling2D(pool_size=(2, 2), strides=(2, 2)))\n",
    "    model.add(Dropout(0.2))\n",
    "   \n",
    "    model.add(Conv2D(128, kernel_size=(3, 3), activation='relu'))\n",
    "    model.add(MaxPooling2D(pool_size=(2, 2), strides=(2, 2)))\n",
    "    model.add(Dropout(0.3))\n",
    "   \n",
    "    model.add(Conv2D(64, kernel_size=(3, 3), activation='relu'))\n",
    "    model.add(MaxPooling2D(pool_size=(2, 2), strides=(2, 2)))\n",
    "    model.add(Dropout(0.3))\n",
    "   \n",
    "    model.add(Flatten())\n",
    "\n",
    "    model.add(Dense(512, activation='relu'))\n",
    "    model.add(Dropout(0.2))\n",
    "    \n",
    "    model.add(Dense(256, activation='relu'))\n",
    "    model.add(Dropout(0.2))\n",
    "    \n",
    "    model.add(Dense(1, activation=\"softmax\"))\n",
    "\n",
    "    optimizer = Adam(lr=0.0001, decay=0.0)\n",
    "    model.compile(loss='binary_crossentropy', optimizer=optimizer, metrics=['accuracy'])\n",
    "    \n",
    "    return model"
   ]
  },
  {
   "cell_type": "code",
   "execution_count": 19,
   "metadata": {
    "collapsed": false
   },
   "outputs": [],
   "source": [
    "df_train = pd.read_json(r'C:/kaggle/ice/train.json') \n",
    "\n",
    "\n",
    "Xtrain = get_scaled_imgs(df_train)\n",
    "Ytrain = np.array(df_train['is_iceberg'])\n",
    "df_train.inc_angle = df_train.inc_angle.replace('na',0)\n",
    "idx_tr = np.where(df_train.inc_angle>0)\n",
    "\n",
    "Ytrain = Ytrain[idx_tr[0]]\n",
    "Xtrain = Xtrain[idx_tr[0],...]\n",
    "\n",
    "Xtr_more = get_more_images(Xtrain) \n",
    "Ytr_more = np.concatenate((Ytrain,Ytrain,Ytrain))\n"
   ]
  },
  {
   "cell_type": "code",
   "execution_count": null,
   "metadata": {
    "collapsed": true
   },
   "outputs": [],
   "source": [
    "kfold = StratifiedKFold(n_splits=10, shuffle=True, random_state=seed)\n",
    "for fold_n, (train, test) in enumerate(kfold.split(Xtr_more, Ytr_more)):\n",
    "    print(\"FOLD : \", fold_n)\n",
    "    model = get_model()\n",
    "    \n",
    "    MODEL_FILE = 'mdl_simple_k{}_wght.hdf5'.format(fold_n)\n",
    "    batch_size = 32\n",
    "    mcp_save = ModelCheckpoint(MODEL_FILE, save_best_only=True, monitor='val_loss', mode='min')\n",
    "    reduce_lr_loss = ReduceLROnPlateau(monitor='val_loss', factor=0.1, patience=15, verbose=1, epsilon=1e-4, mode='min')\n",
    "\n",
    "    model.fit(Xtr_more[train], Ytr_more[train],\n",
    "        batch_size=batch_size,\n",
    "        epochs=30,\n",
    "        verbose=1,\n",
    "        validation_data=(Xtr_more[test], Ytr_more[test]),\n",
    "        callbacks=[mcp_save, reduce_lr_loss])\n",
    "    \n",
    "    model.load_weights(filepath = MODEL_FILE)\n",
    "\n",
    "    score = model.evaluate(Xtr_more[test], Ytr_more[test], verbose=1)\n",
    "    print('\\n Val score:', score[0])\n",
    "    print('\\n Val accuracy:', score[1])\n",
    "\n",
    "    SUBMISSION = r'C:/kaggle/ice/result/sub_simple_v1_{}.csv'.format(fold_n)\n",
    "\n",
    "    df_test = pd.read_json(r'C:/kaggle/ice/test.json')\n",
    "    df_test.inc_angle = df_test.inc_angle.replace('na',0)\n",
    "    Xtest = (get_scaled_imgs(df_test))\n",
    "    pred_test = model.predict(Xtest)\n",
    "\n",
    "    submission = pd.DataFrame({'id': df_test[\"id\"], 'is_iceberg': pred_test.reshape((pred_test.shape[0]))})\n",
    "    print(submission.head(5))\n",
    "\n",
    "    submission.to_csv(SUBMISSION, index=False)\n",
    "    print(\"submission saved\")"
   ]
  },
  {
   "cell_type": "code",
   "execution_count": 22,
   "metadata": {
    "collapsed": false
   },
   "outputs": [],
   "source": [
    "wdir = r'C:/kaggle/ice/result/'\n",
    "stacked_1 = pd.read_csv(wdir + 'sub_simple_v1_0.csv')\n",
    "stacked_2 = pd.read_csv(wdir + 'sub_simple_v1_1.csv')\n",
    "stacked_3 = pd.read_csv(wdir + 'sub_simple_v1_2.csv')\n",
    "stacked_4 = pd.read_csv(wdir + 'sub_simple_v1_3.csv')\n",
    "stacked_5 = pd.read_csv(wdir + 'sub_simple_v1_4.csv')\n",
    "stacked_6 = pd.read_csv(wdir + 'sub_simple_v1_5.csv')\n",
    "stacked_7 = pd.read_csv(wdir + 'sub_simple_v1_6.csv')\n",
    "stacked_8 = pd.read_csv(wdir + 'sub_simple_v1_7.csv')\n",
    "stacked_9 = pd.read_csv(wdir + 'sub_simple_v1_8.csv')\n",
    "stacked_10 = pd.read_csv(wdir + 'sub_simple_v1_9.csv')\n",
    "sub = pd.DataFrame()\n",
    "sub['id'] = stacked_1['id']\n",
    "sub['is_iceberg'] = np.exp(np.mean(\n",
    "    [\n",
    "        stacked_1['is_iceberg'].apply(lambda x: np.log(x)),\n",
    "        stacked_2['is_iceberg'].apply(lambda x: np.log(x)),\n",
    "        stacked_3['is_iceberg'].apply(lambda x: np.log(x)),\n",
    "        stacked_4['is_iceberg'].apply(lambda x: np.log(x)),\n",
    "        stacked_5['is_iceberg'].apply(lambda x: np.log(x)),\n",
    "        stacked_6['is_iceberg'].apply(lambda x: np.log(x)),\n",
    "        stacked_7['is_iceberg'].apply(lambda x: np.log(x)),\n",
    "        stacked_8['is_iceberg'].apply(lambda x: np.log(x)),\n",
    "        stacked_9['is_iceberg'].apply(lambda x: np.log(x)),\n",
    "        stacked_10['is_iceberg'].apply(lambda x: np.log(x)),\n",
    "        ], axis=0))\n",
    "\n",
    "sub.to_csv(wdir + 'final_ensemble.csv', index=False, float_format='%.6f')   "
   ]
  }
 ],
 "metadata": {
  "anaconda-cloud": {},
  "kernelspec": {
   "display_name": "Python [default]",
   "language": "python",
   "name": "python3"
  },
  "language_info": {
   "codemirror_mode": {
    "name": "ipython",
    "version": 3
   },
   "file_extension": ".py",
   "mimetype": "text/x-python",
   "name": "python",
   "nbconvert_exporter": "python",
   "pygments_lexer": "ipython3",
   "version": "3.5.2"
  }
 },
 "nbformat": 4,
 "nbformat_minor": 1
}
